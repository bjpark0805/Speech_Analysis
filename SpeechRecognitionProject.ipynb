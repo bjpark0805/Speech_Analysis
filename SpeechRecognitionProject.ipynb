{
 "cells": [
  {
   "cell_type": "markdown",
   "metadata": {},
   "source": [
    "# SpeechRecognition Project \n",
    "* Only transcribed with single language for each file (until now)\n",
    "* For transcription, nearly 90% successful.\n",
    "* English, spoken by Korean children is recognized rather as Korean not as English.\n",
    "* If the file is too long(over 10 minutes), it might be better to upload the audio file manually.\n",
    "* 3gp file is converted to wav file for the experiment."
   ]
  },
  {
   "cell_type": "code",
   "execution_count": 1,
   "metadata": {},
   "outputs": [],
   "source": [
    "import speech_recognition as sr\n",
    "\n",
    "filepath = \"audio/\"     #Input audio file path in my case\n",
    "output_filepath = \"Transcripts/\" # Final transcript path\n",
    "bucketname = \"speechrecognitionkt\" # Name of the bucket created in the step before\n",
    "\n",
    "# Import libraries\n",
    "from pydub import AudioSegment\n",
    "import io\n",
    "import os\n",
    "from google.cloud import speech\n",
    "from google.cloud.speech import enums\n",
    "from google.cloud.speech import types\n",
    "import wave\n",
    "from google.cloud import storage"
   ]
  },
  {
   "cell_type": "code",
   "execution_count": 2,
   "metadata": {},
   "outputs": [],
   "source": [
    "def stereo_to_mono(audio_file_name):\n",
    "    sound = AudioSegment.from_wav(audio_file_name)\n",
    "    sound = sound.set_channels(1)\n",
    "    sound.export(audio_file_name, format=\"wav\")"
   ]
  },
  {
   "cell_type": "code",
   "execution_count": 3,
   "metadata": {},
   "outputs": [],
   "source": [
    "def frame_rate_channel(audio_file_name):\n",
    "    with wave.open(audio_file_name, \"rb\") as wave_file:\n",
    "        frame_rate = wave_file.getframerate()\n",
    "        channels = wave_file.getnchannels()\n",
    "        return frame_rate,channels"
   ]
  },
  {
   "cell_type": "code",
   "execution_count": 9,
   "metadata": {},
   "outputs": [],
   "source": [
    "def upload_blob(bucket_name, source_file_name, destination_blob_name):\n",
    "    \"\"\"Uploads a file to the bucket.\"\"\"\n",
    "    storage_client = storage.Client()\n",
    "    bucket = storage_client.get_bucket(bucket_name)\n",
    "    blob = bucket.blob(destination_blob_name)\n",
    "    if not blob.exists():\n",
    "        blob.upload_from_filename(source_file_name)"
   ]
  },
  {
   "cell_type": "code",
   "execution_count": 5,
   "metadata": {},
   "outputs": [],
   "source": [
    "def delete_blob(bucket_name, blob_name):\n",
    "    \"\"\"Deletes a blob from the bucket.\"\"\"\n",
    "    storage_client = storage.Client()\n",
    "    bucket = storage_client.get_bucket(bucket_name)\n",
    "    blob = bucket.blob(blob_name)\n",
    "\n",
    "    blob.delete()"
   ]
  },
  {
   "cell_type": "code",
   "execution_count": 17,
   "metadata": {},
   "outputs": [],
   "source": [
    "def google_transcribe(audio_file_name):\n",
    "    \n",
    "    file_name = filepath + audio_file_name\n",
    "#     mp3_to_wav(file_name)\n",
    "\n",
    "    # The name of the audio file to transcribe\n",
    "    \n",
    "    frame_rate, channels = frame_rate_channel(file_name)\n",
    "    \n",
    "    if channels > 1:\n",
    "        stereo_to_mono(file_name)\n",
    "    \n",
    "    bucket_name = bucketname\n",
    "    source_file_name = filepath + audio_file_name\n",
    "    destination_blob_name = audio_file_name\n",
    "    \n",
    "    upload_blob(bucket_name, source_file_name, destination_blob_name)\n",
    "    \n",
    "    gcs_uri = 'gs://' + bucketname + '/' + audio_file_name\n",
    "    transcript = ''\n",
    "    \n",
    "    client = speech.SpeechClient()\n",
    "    audio = types.RecognitionAudio(uri=gcs_uri)\n",
    "\n",
    "    config = types.RecognitionConfig(\n",
    "    encoding=enums.RecognitionConfig.AudioEncoding.LINEAR16,\n",
    "    sample_rate_hertz=frame_rate,\n",
    "    language_code='ko-KR')\n",
    "\n",
    "    # Detects speech in the audio file\n",
    "    operation = client.long_running_recognize(config, audio)\n",
    "    response = operation.result(timeout=10000)\n",
    "\n",
    "    for result in response.results:\n",
    "        transcript += result.alternatives[0].transcript\n",
    "    \n",
    "    delete_blob(bucket_name, destination_blob_name)\n",
    "    return transcript"
   ]
  },
  {
   "cell_type": "code",
   "execution_count": 7,
   "metadata": {},
   "outputs": [],
   "source": [
    "def write_transcripts(transcript_filename,transcript):\n",
    "    f= open(output_filepath + transcript_filename,\"w+\")\n",
    "    f.write(transcript)\n",
    "    f.close()"
   ]
  },
  {
   "cell_type": "markdown",
   "metadata": {},
   "source": [
    "## Example audio clip"
   ]
  },
  {
   "cell_type": "code",
   "execution_count": 1,
   "metadata": {},
   "outputs": [
    {
     "data": {
      "text/plain": [
       "'the stale smell of old beer lingers it takes heat to bring out the odor a cold dip restores health and zest a salt pickle taste fine with ham tacos al Pastore are my favorite a zestful food is be hot cross bun'"
      ]
     },
     "execution_count": 1,
     "metadata": {},
     "output_type": "execute_result"
    }
   ],
   "source": [
    "recognizer = sr.Recognizer()\n",
    "recognizer.energy_threshold = 300\n",
    "\n",
    "harvard_audio = sr.AudioFile(\"audio/harvard.wav\")\n",
    "\n",
    "with harvard_audio as source:\n",
    "    audio = recognizer.record(source)\n",
    "    \n",
    "recognizer.recognize_google(audio_data = audio, language = \"en-US\")"
   ]
  },
  {
   "cell_type": "markdown",
   "metadata": {},
   "source": [
    "## 전사.3gp (-> wav 파일로 변환 후 테스트)"
   ]
  },
  {
   "cell_type": "code",
   "execution_count": 18,
   "metadata": {},
   "outputs": [
    {
     "name": "stdout",
     "output_type": "stream",
     "text": [
      "야 뭐 하고 있어 길게 안 해도 돼 짧게 짧게 세수하고 양치하고 있고요 밥 먹고 옷 입고 저거 영어로 시라고 할게 했었지이따가 된다는 당연히이 같이 가지 기억이 안 나 이런 영어는 안 먹는다며 기억이 안 나 요금 나한테 나는 라면 뭔데 먹는다는 되게 쳐져 이거 빨리 마치는 시간 내야 되니까 먹는다는 이것만 마시자 밥 먹는다는 25분 신발 신을 다녀\n"
     ]
    }
   ],
   "source": [
    "test_transcript = google_transcribe('test.wav')\n",
    "print(test_transcript)"
   ]
  },
  {
   "cell_type": "markdown",
   "metadata": {},
   "source": [
    "## 이해.3gp (한국어로 인식)"
   ]
  },
  {
   "cell_type": "code",
   "execution_count": 19,
   "metadata": {},
   "outputs": [
    {
     "name": "stdout",
     "output_type": "stream",
     "text": [
      "3시 딱 맞아요 맞아요 들려요 맞아요 싫어요 맞아요 틀려요 틀려요 들려 맞아요 틀려요 맞아요 맞아요 틀려요 들려요 맞아요 졸려 들려요 맞아요 틀려요 맞아요 틀려요 들려요 아 맞아요 맞아요 맞아요 맞아 아 맞아 틀려 맞아요 들려요 여기서 또 있잖아\n"
     ]
    }
   ],
   "source": [
    "understand_transcript = google_transcribe('understand.wav')\n",
    "print(understand_transcript)"
   ]
  },
  {
   "cell_type": "markdown",
   "metadata": {},
   "source": [
    "## 발화.3gp (한국어로 인식)"
   ]
  },
  {
   "cell_type": "code",
   "execution_count": 7,
   "metadata": {},
   "outputs": [
    {
     "data": {
      "text/plain": [
       "'도현이네 스톤 플라워로드 파이어 ccm13 클래스 트리 10시 1분 40분 있다 집중 스페이스 마우스 마우스 마우스 싱글'"
      ]
     },
     "execution_count": 7,
     "metadata": {},
     "output_type": "execute_result"
    }
   ],
   "source": [
    "balhwa = sr.AudioFile(\"audio/balhwa.wav\")\n",
    "\n",
    "with balhwa as source:\n",
    "    balhwa_source = recognizer.record(source)\n",
    "    \n",
    "recognizer.recognize_google(audio_data = balhwa_source, language = \"ko-KR\")"
   ]
  },
  {
   "cell_type": "code",
   "execution_count": 10,
   "metadata": {},
   "outputs": [
    {
     "name": "stdout",
     "output_type": "stream",
     "text": [
      "도현이네 스톤 스카이 플라워로드썬 파이어 c c c 클래스 타 트리 버드 워터 10시 1분 집중 lose your face 핸드폰 케이스 마우스 마우스 I 빙글\n"
     ]
    }
   ],
   "source": [
    "balhwa_transcript = google_transcribe('balhwa.wav')\n",
    "print(balhwa_transcript)"
   ]
  },
  {
   "cell_type": "markdown",
   "metadata": {},
   "source": [
    "# 1차시수업.mp4 -> lesson.wav 변환 후 한국어 인식"
   ]
  },
  {
   "cell_type": "code",
   "execution_count": 32,
   "metadata": {},
   "outputs": [
    {
     "name": "stdout",
     "output_type": "stream",
     "text": [
      "안녕하세요 여러분 이번 학기 영화 결석을 많이 드는 비결입니다 교실에서 여러분의 듣고 싶은데 코로나 19 차 때문에서 여러분을 교실에서 뵙지 못해서 너무 안타깝습니다 take a가 빨리 끝내서 여러분을 교실에서 뵙기를 희망합니다 먼저 출석을 부르겠습니다 제가 출석부를때 여러분 이름이 들이지 않는다면 신청이 안 된 거 실수가 있으니 확인해 보시면 되겠습니다 이지윤 있으나 장세원 신현주 김민철 병원 신건호 조현서 박민경 신윤건 오승윤 이서연 주하연 조윤서 홍성현 권가현 문가빈 김도 민선웅 김은강 이다은 최윤지 김익성 이영표 송민준 임수아 강수민 조은비 안세연 권석 총 39명나 이제 수업을 시작하겠습니다 이번 학기 제기되면 수업은 제가 etr 공주에서 올린것처럼 한주의 동영상 만들어서 제가 이태리 올리는 방식으로 진행하려고 합니다 그리고 여러분들에게 간단한 과제를 내려고 합니다 그리고 이번 주에 과제는 제가 동영상 수업 중간에 알려 드리겠습니다 자 오늘은 저희가 2학기에 소속이기 때문에 먼저 쓰려고 스를 소개하고 영어 아기랑 감옥이 무엇인지에 대해서 간단하게 설명을 드리려고 합니다 그리고 인간 언어가 왜 특별한 씨에 대해서 역시 제가 간단하게 설명드리겠습니다 보시는 것이 좋습니다 달라고 했을 때 보시면 맨 위에 강희자 정보 보이시죠 제기 테킬라 관계자는 김기택 저희 고요 그 옆에 이메일 주소가 있습니다장비 밑에 크리스티안 해 보겠습니다 자 여기 뭐 이것저것 내용이 적혀 있는데요이 내용을 간단히 요약하자면 이용확인 원이란 사무기 언어를 이해하는 건 또 그런 어 중에서 특별히 영화의 수정을 드는 감옥 있다라고 이해하시면 될 거 같고요 그리고 여러분들이이 수업을 통해서 확진자 끝날 때 쯤에는 우리 인간의 언어가 만화 놀랐고 그리고 정교한 세 개를 가지고 있는지 그리고이 정교하고 놀라운 복잡한 세계 언어 스택 한다는 것이 얼마나 놀라운 일인지를 이해하게 될 것이라고 생각합니다 그리고 또 난 이런 인간 에어 너야말로 우리를 다른 동물들 예를 들어서 침팬지나 먹었다는 동물들과 9분 쉽게 하는 바로 인간 반에 핵심적인 특징을 여러분들이 있을 것이다라고 생각합니다 그 다음으로 이제 그 교회에 대해서 안내드리겠습니다 교재는 다 갖고 좋은 아침군위 쓰는 컨템포러리 inductorless 쓰겠습니다 이렇게 생겼습니다 컨템포러리이 책을 쓰려고 하고요 제가 학교에서 저 주문할 때 때문에 학교에서 자기 믿고 되어 있는 것으로 알고 있습니다 그런데 여러분들이 9시에 학교에 와서 뭐 구매 하실 필요는 없을 것 같고요 않아도 인터넷 등을 통해서 여러분들이 배송을 받으면 되지 않을까 생각을 하고 있습니다 저희 책이 상당히 씻고 그리고 잘 수 있는 책이다라고 생각하고 있고요 여러분들이이 책을 구매 하시면 되겠습니다 그 다음으로 평가 부분을 살펴보도록 하겠습니다 제가 보시는 바와 같이 참여 및 부분 20%입니다 우리가 비대면수업 떼는 중 이제는 내가 몇 시간 여러분들을 볼 수 없기 때문에 그래서 여러분들에게드리는 과제를 잘 제출했는지를 통해서 여러분들의 어센던스 이거 파티스테이션 4번을 확인하려고 합니다 여러분들 이제 그 제가 언니 과제 너무 많은 시간을 서두를 필요는 없을 것 같고요 과제는 헬스벨 개념이기 때문에 그냥 제가 내리는 과제를 잘 이해하고 그 내용을 잘 제출하기 만하면 테스트라고 생각하시면 될 거 같습니다 그래서 화이트스테이션 이제 10%를 찾을 하고요 두 번째 두 번에 시험 있습니다 우리 2번에서 중간고사 기말고사 1.2 중간 고사 하고 기말고사가 총 70% 비중을 차지합니다 그런데 참고로 중간고사 경우에 만약에 코로나 사태가 4월 말까지도 계속되어서 여러분들이 학교에 나올 수 없다면 현재 계획으로는 중간고사는 텔레콤 이그잼 방식으로 시험을생각을 하고 있습니다 그리고 기말고사는 학기에 마지막 날 2월 중순에 있을 건데요 설마 코로나 19가 그 때까지 쭉 되지는 않을 거라고 생각합니다 그래서 3일 기말고사 그나마 여러분들이 강의실에서 시험을 볼 수 있지 않을까라고 생각을 합니다 자이 두 번 70%로 가장 큰 비중을 차지하고요 그 다음이 인디비주얼 프리젠테이션 10% 로그인 거죠 여러분들이 우리 영어 수업을 들으면서 여러분들이 배운 내용을 바탕으로 여러분들이 개인적으로 이제 앞으로 연구하는 합니다 앞으로 3개월 정도 시간이 있는데 3개월동안의 여러분들이 이제 자기가 하는 부분을 연구에 보시고요 그리고 4주차에 발표 하시면 되겠습니다 예를 들어서 우리가 뭐 수업 한 곡 중에서 영어에서 단어를 형성하는 방식의 될 텐데 한국에서는 단어를 형성하는 방식이 어떤지 혹은거다예를 들어서 중국어는 샤워 같은 언어에서는 어떤지 되는 여러분들이 살펴볼 수 있겠죠 그런 부분들이 여러분들에게 인주제가 될 수 있다 하라고 말씀 드리고요 개인 주제는 사이입니다 여러분들이 언어와 관련한 때는 어떤 부분이든 우리가 배운 내용을 좀 연결 시켜 가지고 준비를 하시면 될 거 같고요 대신 제약을 드리겠습니다 여러분들이 언어에대한 웬만한 거는 다 하셔도 괜찮은데 대신에 그 발표 주제로 소리에 대한 부분은 우리가 다르지 않게 3자의 소리에 대한 부분은 여러분들이 안형기 선생님의 영어음성학 수업에서 다르기 때문에 저희 수업에서는 그 소리에 대한 부분은 다르지 않다고 합니다 실제로 우리 영화학개론 수업에서도 내 소리에 대한 부분이라고 하는데요 2분 여러분들이 이제 안 현기서생은 수업에서 심도 있게 될 것이기 때문에 우리 수업에서는바로 잤습니다 자 마지막으로 어싸인먼트 과제가 슈퍼덴트입니다 저희 없다 이마트는 제가 이제 비대면수업 때 여러분들에게 매주 드리는 그 과제 학원을 다른 거 빼고요 제가 매주 되는 과제는 이팔 티스테이션 어텐던스 해당되는 글 패스페일 개념이다라고 생각하시면 될 거 같고 여기 나와 있는 맨 마지막에 20% 해당되는 없다니 만드는 여러분들이 점수가 나가는 그래서 가사 중에서 나가는 부분이 달라고 하시면 되겠습니다 사이먼튼 하나가 있을거고요 여러분들이 배운 내용을 바탕으로 한국어 영어 러시아어 중국어 같은 언어들이 얼마나 가깝고 얼마나 다른지를 살펴보는 것이다라고 대략적으로 이해하시면 될 거 같고요 구체적인 내용은 저희가 학교에 초중반에 내용들을 7 배우고 난 다음에 여러분들에게 알려 드리도록 하겠습니다 과제를 수행하기 위해서는 여러분들이 이제 우리가 학기 초에 배우는 물풀로 지랄인지 신탁 자든지 시맨틱스 이런 부분들을 이해를 하셔야 되고요 그래서 이해를 바탕으로 해서 여러분들이 과제를 수행하는 것이 잘하고 참고로 제가 유형 저기다라는 표현을 갔었는데이 유형이라는 개념은 더 의식조차 타이폴로지 다른 거 보여 달라고 얘기 하시면 되겠습니다 그래서 과제도 여러분들이 아마도 10주차 나 11주차 정도에 제출하게 될 것이다라고 하시면 되겠습니다 일단 그러면 우리가 이제부터 그리고 15주 동안에 무엇을 배우는 죄에 대해서 알아보도록 하겠습니다 우선 오늘이 1주차 있지요 차이는 있으나 것을 바탕으로 해서이 수업을 개발하는 시간을 갖도록 하고요 그 다음으로 제가 인간의 언어과외 특별한 돼 그리고 인간의 언어가 어떤 부분들로 구성되어있는지 대충 대략적으로 배우는 중입니다라고 주더라고 생각해보겠습니다 우리는 누구나 언어를 알고 있습니다 그 누구냐 어 너를 알고 있고요 아니다라는 것을 영어로 편하다면 know 녹음이 되는 거죠 우리가 영어를 안다는 것은 또 달리 편하잖아 우리가 영어의날 이제 날리지 언어지식 혹은 올린 개씩 날리지가 어느 가지고 있다라는 것을 의미합니다 우리는 이런 어느 같이 시기이기 때문에 이런 어제 책을 사용 해서 일상생활에서 언어를 듣고 이해하고 말할 수가 있습니다 그런데 이런 언어지식 여러분들이 일반적으로 생각하는 주식들 평상시에 어 나는 스시 김아나 거시기 저거 이런 부분들 가는 사뭇 다르다 가는 것도 이해 하셔야 될 것 같습니다 여러분들이 지식이라고 한다면 대게는 어떤 것들을 생각합니까 예를 들어서 물리학의 공식인 fnma 같은 것도 여러분들의 알고 있네 주식 중 일부가 되어 수학의 근해공식 역사적 사실을 아는 거 예를 들어서 1592년에 임진왜란 일어났다 1636년에 병자호란 일어났다 이런 것도 이와 관련해 지식입니다 그런데 우리가 초점을 두는 언어 짓이라는 것을 바로 예쁘네 메이라는 근해공식 이라든지 성벽 47길 하든지 일어난 지식과는 사뭇 다릅니다 우리는 누구나 알고 있고 이런 어 아저씨에게 말하기나 듣기에서 쉽게 사용하고 있는데 막상 이런 어 지식을 누군가가 설명하라고 하면 갑자기 말문이 막힐 때가 있습니다 들어 보겠습니다 우리말의 제가 다음 문장을 한번 써보겠습니다 써볼게요 크게 쓰겠습니다 자니 예쁘게 시즌 못합니다 안경을 안경을 첫 문장에 교수님이 안경을 사셨습니다라는 문장 있습니다 여러분들은 누구나이 문장을 이해할 수 있습니다 너무 쉬운 문자 해 줘 그죠 우리 한국 사람들에게는 감성을 하셨습니다라는 문자 하는 너무 쉽고 그냥 뭐 이해하니까 전혀 어렵지 않습니다 왜냐하면 여러분들이 한국어 지식이 있기 때문이다 안 하시게 때문인거죠 그런데 우리가이 문장을 이틀씩 우리가 알고 있는 지식이 무엇인지를 좀 이해하기 위해서이 문장을 좀 해 보겠습니다 교수님이 안경을 사셨습니다 하는데 어떻게 해체가 가능하면 첫 번째 교수님이라는 1 2분 있을거고요 하늘 붉은 있을거고요 안경이라는 부분이 있을 거고요 부분이 있을 겁니다 그리고 사라는 부분 있을거고요 일하는 거는 사실은 우리가 이거를 좀 더 구체적으로 보자면 씨하고 어찌 되겠지 그죠 하셨습니다 4시 없습니다가 될 거고 차 시습니다 하나가 또 9분되는 부분일 것이다라고 이해하실겁니다 보시면 1 2 3 넷 다섯 여섯 일곱 여덟 아홉 열 교수님이 안경을 사셨습니다라는 2 1 2 문장이 적어도 10개에 부분으로 9분될 수 있다는 여러분들이 이해할 수가 있습니다 그렇죠 물론 우리가 음성적인 아 형태적으로 들어가면 10개국은 수십대 요소로도 9분되어 있습니다 그러나 우리가 오늘은 첫 수업이 때문에 그냥 단순하게 10개에 부분으로만 구글 하겠습니다 질문 하나 드리겠습니다 여러분들이이 10개 부분에 대해서 그 뜻이 무엇인지를 바로 파악할 수 있으니까 뭐 교수님 이라든지 안경이 라든지 뭐 이런 부분은 아마 쉽게 이해하실 겁니다 제가 드리겠습니다 무슨뜻이죠네 대표님이랑 누구를 존재하는 거죠 네 그렇죠 여러분들 다 머릿속으로 아마 떠올리듯이 교수님을 존대하는 표현이 바로 씨가 되는 거죠 일하는 것은 과거표현 것은 잘 알테고 무슨 뜻입니까 알고 있으니까 아마 바로 답이 나오는 친구들 많은 여러분들 중에 일본은 어 뭐더라 나는 이제 그런 생각을 갖는 친구도 있었을겁니다 참고로 제가 다른 학교 학생들이 나 일반인 강의 때 이슬이 무엇인지를 물어 보면 되게 하는데 좀 조용히 해 주더라고요 이스라엘 미리 말씀드리겠습니다 이승은 역시 존대를 표 나는 거죠 대상이 죽어 문장이 줘가 아니라 바로 듣는 사람 청자 높이는 표현이다라고 하시면 되겠습니다 우리가 열 개 요소를 다 알고 있지만 그러나 막상 그 중 일부를 설명하라고 하면 설명해 줘 쉽지가 않다라는 그의 말씀을 드리는 거고요 보겠습니다 다음 주 문의드리겠습니다 자이 동사 부분을 그러죠 4시 얻습니다 네가 질문해 드릴게요 저 4시 얻습니다 이소설 가요 혹시 여러분들 존재라는 것을 뒤로 한꺼번에 다 넘겨 가지고 및 아 이건 안 될까요 안 되죠 약속은 실습 일하는 것을 제가 앞장 세워서 실습 이건 안 되나요 안 되죠 혹은 우리가 주어 존대하고 그다음에 성장하 존대를 좀 좀 뒤집어 가지고 사슴 사슴 10번 안 될까요 이것도 안 되겠지 우리는 누구나 이런 그 형태소들을 우리한테 요리할 때 순서가 되지 않는다는 것을 알고 있습니다 어떻게 하는 거죠 이렇게 순서가 있다라는 것을 여러분들이 학교에서 배워서 알게 된 것도 아니고 외로운데 어릴 때부터 한국 가게 자연스럽게 노출되면서 이러한 언어지식 순서에는 언어 지식을 습득하고 된 것이죠 우리는 한국어의 노출되면서 것이고요 그리고 이런 한국어에 대한 우리의 대략적인 지식은 어느 지금은 몇 시 정도면 완전 될까요 어휘는 당연히 사이버평생 새로 해야 되는 거지 나는 이런 어떤 순서로 하는지 구조 라든지 언어체계 라든지 이런 언어지식 대략적인 부분은 단지 4년 만에 완성 된다라고 합니다 우리가 이번 학기 수업에서 여러분들의 여러분 확인하게 찜하는 언어는 굉장히 복잡하고 놀랍고 정교한 체계를 가지고 있습니다 그리고 이런 복잡한 세계를 말로 설명하라고 하면 잘 살면 하기 어렵습니다 그런데 누구나이 복잡한 체계를 알고 있습니다 즉 여러분을이 복잡한 언어 지식을 알고 있고 갖고 있습니다 그리고이 복잡한 1시간 만 4세 정도면 대부분 택배입니다 아직 임지석 그냥 아기 발달 되지 않은 아이가 이런 복잡한 언어 지식을 습득 한다는 것은 상당히 놀라운 일이고요 따라서이를 가리켜서 언어습득의 신비 혹은 언어습득의 미스터리라고 불리기도 합니다 자 이제 다시 우리 앞에서 제가 제기했던 내용을 돌아가서 제가 여러분들에게 언어 주식은 물리학의 공식이나 수학공식이 나 역사적 사실과 같은 그런 치과는 다르다라고 말씀 우리가 가지고 있는 지식은 적어도 두 가지로 9분되는데요 언어지식 알고는 있지만 알고는 있지만 우리 암시적으로 알고 있는 지식을 우리가 인플렉스 날리지 암시적 지식이라고 하고요 철자는 임프 인플레이션 RPG가라고 보시면 될 거 같고요 전화 반면에 물리학의 공식이나 수학 공식 나 역사적 사실 거 같은 명시적으로 알고 있고 네가 설명하라고 하면 또 설명될 수 있고 그러한 명시적 지식 익스플리싯이라고 합니다 나 그러면 여러분 생각해 우리가 다루고 있는 영화 기원에서 우리가 다루고자 하는 그 지식은 바로 여러분들이 알고 있는 영어를 모국어로 하는 사람들이 알고 있는 이런 임플리싯 날리지가 무엇인지를 우리가 이해하는 것이 알아보는 것이 바로 우리 수업에 목표 잘하고 하시면 되겠습니다 여러분들에게 이번 주에 과제를 하나 드리도록 하겠습니다 여러분들은 유튜브 사이트를 방문하게 될 것입니다 그 유튜브 사이트 주소는 제가이 동영상을 올리면서 같이 그 사이트 주소를 올리도록 하겠습니다 자이 사이트에 여러분들이 접속하시면 거기서 조금 안타까운 사연을 여러분들이 볼 수가 있습니다 그 12분짜리 짧은 동영상인데요 실제 일어난 일입니다 미국에서 지니라고 하는 하나의 그 동영상 안에 그 설명되어있습니다 여러분들이 짧은 동영상을 시청하시고 이번 주 토요일 밤 12시까지 제가 과제 그 게시판에 만들어 놓을 거고요 거기다가 이제 과제를 제출하시면 됩니다 과제 내용은 날씨를 여러분들이 쓰셔 가지고 간단히 밥만 챙겨 가지 가지 다 올려 주면 되는데 첫 번째 문제 이아이가 동영상을 보시면 될 겁니다이 아이가 언어 중에서 어떤 부분은 습득할 수 있었고 어떤 부분을 습득할 수 없었는지 여러분들이 동영상을 보고 파악하신 다음에 그 답을 잡으시면 되구요 둘째 현상에 대해서 어떤 부분에 들어갈 수 있고 어떤 부분을 때 가지 못하는이 부분에 대해서 이제 UCLA 언어학학교 제일 수잔 칼텍스라는 구이 나와서 설명합니다 디스 아닐 거예요 있으라고 사막으로 나옵니다 그분이 말하는 것을 열심히 들으시면 되고요 이수산 컬티스트 교수님이 나아서 설명할 때 본인의 언어가 무엇인지에 대한 견해를 설명하는 부분이 나옵니다 블라블라블라 얘기를 하거든요 여러분들이 그 시장 컬투스 가능시간 무엇이 달라고 얘기는들을 7시 간단하게 잡으시면 되겠습니다 저 마지막은 이러한 수잔 컬투스 의견에 대한 여러분의 생각 동일된 반대되는 혹은 다른 걔네들 난 여러분들의 생각을 아주 간단하게 잡으시면 되겠습니다 제가 다시 말씀 들었습니다 과자가 세 가지가 있고요이 세 가지 문제가 있고요이 세 가지 문제에 대해서 아주 짤막하게 길게도 필요 없습니다 아주 짤막하게 답을 달아 가지고 과제란 에다가 여러분들은 첫 번째 수업에서 급할 티스테이션 옆에 있는 부분이 패스 달라고 하시면 되겠습니다 다시 스타벅스로 넘어가겠습니다 넘어갈게요 그래서 우리가 1주차 해서 제가 전체적인 내용을 얘기를 하고 그리고 언어가 특별한지 대해서 설명을 드렸습니다 자유 차 바로 다음 주에 적어 줘 다음 주에 다른 내용이고요 드디어 우리가 책을 바랍니다 텍스트북 원을 다루게 될 거고요 여러분은 책 읽어 보시면 됩니다 저희 시장에서 왜 언어가 민지를 여러분들이 오시면 되고요 그 부분이 일정에 핵심이다라고 하시면 되겠습니다 역시 이와 관련해서 온라인 강의 말을 해 가지고요 월요일에 올리도록 하겠습니다 3 주차하고 자주 차는 못 벌러지 우리말로는 형태론이라고 하는 부분은 거고요 부분을 다른 건데요이 물건은 어휘를 만들 때 단어를 만들 때 어떤 룰을 바탕으로 우리가 어디를 만들어내는지 살펴보는 부분이 달라고 하시면 되겠습니다 예를 들어보겠습니다 happens라는 단어가 있죠 단어는 사실은 그 안에 언니랑 9분하고 해피 부분하고 리스트라는 형태소 단어 달라고 하시면 될 거 같고요 이언 해피니스 Happiness가 어떤를 바탕으로 해서 결합된 은지 씨는 가능하시면 아는 언니 shape 불가능하고 Happiness 불가능한지 등등을 우리가 다른 달하고 예수의 드렸습니다 사람은 다음 페이지 보겠습니다 자꾸 주차하고 육체는 저희가 선택을 하는 부분을 다릅니다 센터 순 우리말로는 통사론의 군인 거고요 있을 때 쓰는 단어가 모여서 굴을 만들고 프레이즈를 만들고 절 클로스를 만들고 문장 센스를 만들 때 어떤 놀이를 방향으로 해서 이런 Please close 센스가 만들어지는지를 살펴보는 부분이 달라고 하시면 될 거 같고요 이때 우리 문장이 구조로 되어 있다라는 것을 배우고 또 이래 보여주는 트리 석차를 직접 끓여 보게 될 것이다라고 생각하시면 되겠습니다 신택스까지 105 난 다음에 그 다음에는 저희가 이제 그 중간 고사를 보게 될 것이고요 아까 말씀드렸던 상황에 따라서 텔레콤 이거 재미 될 수 있다라고 생각하시면 되겠습니다 제가 그리고 중간고사 이번에는 우리가 쓰면 특수하고 프라그마틱 서비스의 걸쳐서 될 거 같은데요 의미에 대한 내용이다 의미가 무엇인지 그리고 우리 머릿속에 의미 3개과 과연 사람들마다 다른지 동일한지 등을 살펴 보면 될 것이다라고 이해하시면 될 거야 자 그 다음 숫자는 플러스입니다 우리말로 2학년이라고 하고요 그 2차까지 배운 내용을 바탕으로 해서 세계 언어간에 유사성매매 살펴보게 될 것입니다 우리는 없으니깐 기본적으로 한국어와 영어의 차이점을 주례로 보겠지 많은 여기에서에서 뭐 하든지 중국어로 되는지 그런데 우리가 살펴보려고 생각을 하고 있습니다 그 다음은 10일 주차할 곳이 이주자는이 복잡하고 정교하고이 놀라운 세계 언어를 인간이 습득하는 그 양상을 살펴보는 주간 날씨를 주차하고 12주차 달라고 하시면 되겠습니다 아기들 타는 양장을 우리가 application-dev 그리고 어른들이 외국어를 습득하는 양상을 우리가 세컨랭귀지 2주차에서 다루게 될 것이다라고 하시면 될 거 같고요 자 마지막으로 13주차 내용으로 올려 다루는 것이 3주차가 마지막 회 보여 일단은 사이클링 하기 될 것입니다 인간이 하는 것이 있어서 이하나 지식을 그 사용 해서 우리가 문장을 듣고 이해하고 문장을 말 하기도 하고 그렇게 되는데 실제로 이렇게 이런 어제 책을 통해서 우리가 실시간으로 서리하는 그런 양상을 살펴보는 것이 바로이 싸이클링 개시 섹스연구 이다라고 하시겠습니다 최근에 기술이 엄청 발달 되잖아요 그렇죠이 기술 발달 과정에서 1언어 지식을 실시간으로 처리하는 과정을 살펴 볼 수 있게 되었는데요 뭐 예를 들어서 안구추적 아이트래킹 이라든지 가능 시간 검사 이런 다양한 머릿속에서 우리가 언어를 어떻게 처리하는지를 살펴볼 수 있는 그런 방법들을 여러분들에게 소개 생각합니다 그리고 마지막으로 혹시 4주차에는 여러분들이 한 학기 동안에 영국 규제를 5분동안 여러분들이 자유롭게 발표 하시면 되고요 어 이거 마지막 15주차이는 우리가 배운 내용을 바탕으로 기말고사를 볼 것이다라고 하시면 되겠습니다 이상이 이번 학기에 대한 개괄적 내용이었습니다 자 여러분들 어서 빨리 코로나 19 사태가 준비되어서 여러분들을 내가 강의실에서 직접 볼 수 있기를 희망합니다 다들 건강 조심하길 바라겠습니다\n"
     ]
    }
   ],
   "source": [
    "transcript = google_transcribe('lesson.wav')\n",
    "print(transcript)"
   ]
  },
  {
   "cell_type": "code",
   "execution_count": null,
   "metadata": {},
   "outputs": [],
   "source": []
  }
 ],
 "metadata": {
  "kernelspec": {
   "display_name": "Python 3",
   "language": "python",
   "name": "python3"
  },
  "language_info": {
   "codemirror_mode": {
    "name": "ipython",
    "version": 3
   },
   "file_extension": ".py",
   "mimetype": "text/x-python",
   "name": "python",
   "nbconvert_exporter": "python",
   "pygments_lexer": "ipython3",
   "version": "3.8.2"
  }
 },
 "nbformat": 4,
 "nbformat_minor": 4
}
