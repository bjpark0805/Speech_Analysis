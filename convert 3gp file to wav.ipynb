{
 "cells": [
  {
   "cell_type": "code",
   "execution_count": 2,
   "metadata": {},
   "outputs": [],
   "source": [
    "import os"
   ]
  },
  {
   "cell_type": "code",
   "execution_count": 3,
   "metadata": {},
   "outputs": [],
   "source": [
    "path = os.getcwd()\n",
    "path = path + \"/audio_raw\""
   ]
  },
  {
   "cell_type": "code",
   "execution_count": null,
   "metadata": {},
   "outputs": [
    {
     "name": "stdout",
     "output_type": "stream",
     "text": [
      "lesson.mp4\n",
      "ffmpeg -i audio_raw/lesson.mp4 -ac 2 -f wav audio_wav/lesson.wav\n"
     ]
    }
   ],
   "source": [
    "for filename in os.listdir(path):\n",
    "#     if (filename.endswith(\".3gp\")): #or .avi, .mpeg, whatever.\n",
    "#         print(filename)\n",
    "#         filename = filename.split('.')[0]\n",
    "#         print(\"ffmpeg -i audio_raw/{}.3gp audio_wav/{}.wav\".format(filename, filename))\n",
    "#         os.system(\"ffmpeg -i audio_raw/{}.3gp audio_wav/{}.wav\".format(filename, filename))\n",
    "#     el\n",
    "    if (filename.endswith(\".mp4\")):\n",
    "        print(filename)\n",
    "        filename = filename.split('.')[0]\n",
    "        print(\"ffmpeg -i audio_raw/{}.mp4 -ac 2 -f wav audio_wav/{}.wav\".format(filename, filename))\n",
    "        os.system(\"ffmpeg -i audio_raw/{}.mp4 -ac 2 -f wav audio_wav/{}.wav\".format(filename, filename))\n",
    "    else:\n",
    "        continue"
   ]
  },
  {
   "cell_type": "code",
   "execution_count": null,
   "metadata": {},
   "outputs": [],
   "source": []
  }
 ],
 "metadata": {
  "kernelspec": {
   "display_name": "Python 3",
   "language": "python",
   "name": "python3"
  },
  "language_info": {
   "codemirror_mode": {
    "name": "ipython",
    "version": 3
   },
   "file_extension": ".py",
   "mimetype": "text/x-python",
   "name": "python",
   "nbconvert_exporter": "python",
   "pygments_lexer": "ipython3",
   "version": "3.8.2"
  }
 },
 "nbformat": 4,
 "nbformat_minor": 4
}
